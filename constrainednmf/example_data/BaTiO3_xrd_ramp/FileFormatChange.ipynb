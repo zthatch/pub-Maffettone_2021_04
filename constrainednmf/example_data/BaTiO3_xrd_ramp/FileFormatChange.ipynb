{
 "cells": [
  {
   "cell_type": "code",
   "execution_count": 47,
   "id": "fcba300b-70cb-4c9e-8fe0-19e34bfa87a2",
   "metadata": {},
   "outputs": [],
   "source": [
    "import numpy as np\n",
    "import pathlib as Path\n",
    "import os\n",
    "import re\n"
   ]
  },
  {
   "cell_type": "markdown",
   "id": "cd4601bd-d717-4d8e-83e3-240832f2c9aa",
   "metadata": {},
   "source": [
    "Load Files"
   ]
  },
  {
   "cell_type": "markdown",
   "id": "36440eb1-7b07-40ba-ab22-ec8eb208f082",
   "metadata": {},
   "source": [
    "Transfer Files to .xy format"
   ]
  },
  {
   "cell_type": "code",
   "execution_count": 18,
   "id": "ae33aa04-f7a0-435e-b9ec-252700f9554f",
   "metadata": {},
   "outputs": [],
   "source": [
    "dir = Path.Path(os.getcwd())\n",
    "data_list = list(dir.glob('*.npy'))\n",
    "\n",
    "def atoi(text):\n",
    "    return int(text) if text.isdigit() else text\n",
    "\n",
    "def natural_keys_file_name(text):\n",
    "    '''\n",
    "    alist.sort(key=natural_keys) sorts in human order\n",
    "    http://nedbatchelder.com/blog/200712/human_sorting.html\n",
    "    (See Toothy's implementation in the comments)\n",
    "    '''\n",
    "    return [atoi(c) for c in re.split(r'(\\d+)', text.stem)]\n",
    "\n",
    "data_list.sort(key=natural_keys_file_name)\n",
    "for file in data_list:\n",
    "    xy_data = np.load(file)\n",
    "    xy_data = np.vstack((np.array(range(len(xy_data))),xy_data.T)).T\n",
    "    np.savetxt(os.path.join(os.getcwd(), f'{os.path.splitext(os.path.basename(file))[0]}.xy'), xy_data)"
   ]
  },
  {
   "cell_type": "code",
   "execution_count": 15,
   "id": "bba22d79-31bc-4510-9197-ec30604f7252",
   "metadata": {},
   "outputs": [],
   "source": [
    "dir = Path.Path(os.getcwd())\n",
    "data_list = list(dir.glob('*.npy'))\n",
    "for file in data_list:\n",
    "    os.remove(f'{os.path.splitext(file)[0]}.xy')"
   ]
  },
  {
   "cell_type": "code",
   "execution_count": null,
   "id": "b098413c-9cc8-4d00-b222-4cf8eb232358",
   "metadata": {},
   "outputs": [],
   "source": []
  }
 ],
 "metadata": {
  "kernelspec": {
   "display_name": "Python 3 (ipykernel)",
   "language": "python",
   "name": "python3"
  },
  "language_info": {
   "codemirror_mode": {
    "name": "ipython",
    "version": 3
   },
   "file_extension": ".py",
   "mimetype": "text/x-python",
   "name": "python",
   "nbconvert_exporter": "python",
   "pygments_lexer": "ipython3",
   "version": "3.8.6"
  }
 },
 "nbformat": 4,
 "nbformat_minor": 5
}
