{
 "cells": [
  {
   "cell_type": "code",
   "execution_count": 6,
   "id": "9df15daf-b242-4007-acc4-1632ce725077",
   "metadata": {},
   "outputs": [],
   "source": [
    "from bto import get_data\n",
    "from constrainednmf.nmf.utils import iterative_nmf\n",
    "import numpy as np\n",
    "import torch\n",
    "from constrainednmf.nmf.models import NMF\n",
    "\n",
    "torch.manual_seed(1234)\n",
    "np.random.seed(1234)"
   ]
  },
  {
   "cell_type": "code",
   "execution_count": 7,
   "id": "d413e949-0845-4da5-9379-cdee191b03f8",
   "metadata": {},
   "outputs": [
    {
     "name": "stdout",
     "output_type": "stream",
     "text": [
      "almost done\n",
      "almost done\n",
      "almost done\n"
     ]
    }
   ],
   "source": [
    "T, X = get_data()\n",
    "\n",
    "for nmf in iterative_nmf(NMF, X, n_components=4, beta=2, tol=1e-8, max_iter=1000):\n",
    "    print('almost done')\n",
    "    H = nmf.H.data.numpy()\n",
    "    W = nmf.W.data.numpy()\n",
    "# nmf final results will be in H and W"
   ]
  },
  {
   "cell_type": "code",
   "execution_count": 8,
   "id": "582fa429-f97c-4d8c-894b-f2d456e4adf0",
   "metadata": {},
   "outputs": [
    {
     "data": {
      "text/plain": [
       "array([[9.3058083e-04, 9.3591009e-04, 9.3855837e-04, ..., 2.9508587e-02,\n",
       "        3.2911960e-02, 7.4852825e-05],\n",
       "       [3.2265240e-04, 3.3078640e-04, 3.5804964e-04, ..., 1.2052893e-02,\n",
       "        9.2409262e-03, 2.4579008e-04],\n",
       "       [9.7822351e-04, 9.6966792e-04, 9.5735677e-04, ..., 1.6031457e-02,\n",
       "        1.1848744e-02, 4.0010686e-04],\n",
       "       [2.1429948e-04, 2.5443494e-04, 2.8707372e-04, ..., 8.2951058e-03,\n",
       "        1.7080497e-02, 1.3113159e-02]], dtype=float32)"
      ]
     },
     "execution_count": 8,
     "metadata": {},
     "output_type": "execute_result"
    }
   ],
   "source": [
    "H"
   ]
  },
  {
   "cell_type": "code",
   "execution_count": 23,
   "id": "0210ed22-24f1-4ead-ac16-d292dad22f64",
   "metadata": {},
   "outputs": [],
   "source": [
    "for i, component in enumerate(H):\n",
    "    save_data = np.vstack((np.array(range(len(component))).T,component.T)).T\n",
    "    np.savetxt(f'constrained_nmf_component{i}.xy', save_data)"
   ]
  },
  {
   "cell_type": "code",
   "execution_count": null,
   "id": "415a0ad9-4efc-4d07-bfda-adc673aa7458",
   "metadata": {},
   "outputs": [],
   "source": []
  }
 ],
 "metadata": {
  "kernelspec": {
   "display_name": "Python 3 (ipykernel)",
   "language": "python",
   "name": "python3"
  },
  "language_info": {
   "codemirror_mode": {
    "name": "ipython",
    "version": 3
   },
   "file_extension": ".py",
   "mimetype": "text/x-python",
   "name": "python",
   "nbconvert_exporter": "python",
   "pygments_lexer": "ipython3",
   "version": "3.8.6"
  }
 },
 "nbformat": 4,
 "nbformat_minor": 5
}
